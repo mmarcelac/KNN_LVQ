{
 "cells": [
  {
   "cell_type": "code",
   "execution_count": 6,
   "metadata": {},
   "outputs": [],
   "source": [
    "# same step to LVQ/KNN\n",
    "#scikit-learn, matplotlib\n",
    "#https://blogdozouza.wordpress.com/2019/04/11/introducao-ao-algoritmo-k-nearest-neighbour-codigo-python/\n",
    "\n",
    "import pandas as pd\n",
    "df = pd.read_csv('bank-additional-full.csv', sep= ';')\n",
    "#df.head()\n",
    "df.replace({'yes': 1, 'no': 0}, inplace=True)\n",
    "\n",
    "# input missing values?\n",
    "#df['Item_Weight'].fillna(mean, inplace =True)\n",
    "\n",
    "df = df[['age', 'job','marital','education','default','housing', 'loan', 'y']].dropna()\n",
    "df = pd.get_dummies(df, prefix=['job','marital','education','default','housing', 'loan'])\n",
    "\n",
    "from sklearn.model_selection import train_test_split\n",
    "train, test = train_test_split(df, test_size = 0.3)\n",
    "\n",
    "x_train = train.drop(\"y\", axis=1, inplace=False)\n",
    "y_train = train['y']\n",
    "\n",
    "x_test = test.drop(\"y\", axis=1, inplace=False)\n",
    "y_test = test['y']\n",
    "\n",
    "# normalização\n",
    "from sklearn.preprocessing import MinMaxScaler\n",
    "scaler = MinMaxScaler(feature_range=(0, 1))\n",
    "\n",
    "x_train_scaled = scaler.fit_transform(x_train)\n",
    "x_train = pd.DataFrame(x_train_scaled)\n",
    "\n",
    "x_test_scaled = scaler.fit_transform(x_test)\n",
    "x_test = pd.DataFrame(x_test_scaled)\n"
   ]
  },
  {
   "cell_type": "code",
   "execution_count": 10,
   "metadata": {},
   "outputs": [
    {
     "name": "stdout",
     "output_type": "stream",
     "text": [
      "RMSE value for k=  1 is: 0.43822015261820013\n",
      "RMSE value for k=  2 is: 0.38253635339069775\n",
      "RMSE value for k=  3 is: 0.36313094144957536\n",
      "RMSE value for k=  4 is: 0.35068777150864616\n",
      "RMSE value for k=  5 is: 0.34257638882465447\n",
      "RMSE value for k=  6 is: 0.33612705344826554\n",
      "RMSE value for k=  7 is: 0.33282261413454395\n",
      "RMSE value for k=  8 is: 0.3302827604786326\n",
      "RMSE value for k=  9 is: 0.3280751442332354\n",
      "RMSE value for k=  10 is: 0.32622922586632064\n",
      "RMSE value for k=  11 is: 0.32539262784099504\n",
      "RMSE value for k=  12 is: 0.32446959836465245\n",
      "RMSE value for k=  13 is: 0.3233921131258408\n",
      "RMSE value for k=  14 is: 0.32264449376678855\n",
      "RMSE value for k=  15 is: 0.32163385685305174\n",
      "RMSE value for k=  16 is: 0.321081197627289\n",
      "RMSE value for k=  17 is: 0.3206333057826223\n",
      "RMSE value for k=  18 is: 0.3200458128322263\n",
      "RMSE value for k=  19 is: 0.31976319996172825\n",
      "RMSE value for k=  20 is: 0.31915874540192235\n",
      "RMSE value for k=  21 is: 0.3187075926703362\n",
      "RMSE value for k=  22 is: 0.31822700729774456\n",
      "RMSE value for k=  23 is: 0.3180806349209493\n",
      "RMSE value for k=  24 is: 0.31793893168241577\n",
      "RMSE value for k=  25 is: 0.3177638955888592\n",
      "RMSE value for k=  26 is: 0.31755917706902304\n",
      "RMSE value for k=  27 is: 0.3175317795931843\n",
      "RMSE value for k=  28 is: 0.31726117394000375\n",
      "RMSE value for k=  29 is: 0.3169243302862205\n",
      "RMSE value for k=  30 is: 0.3169362690432442\n",
      "RMSE value for k=  31 is: 0.3166732705439052\n",
      "RMSE value for k=  32 is: 0.3164938352851903\n",
      "RMSE value for k=  33 is: 0.31639970054565547\n",
      "RMSE value for k=  34 is: 0.3163651880673184\n",
      "RMSE value for k=  35 is: 0.31618310921121395\n",
      "RMSE value for k=  36 is: 0.3160793192747998\n",
      "RMSE value for k=  37 is: 0.315967795724651\n",
      "RMSE value for k=  38 is: 0.31597372132485\n",
      "RMSE value for k=  39 is: 0.3158790669873957\n",
      "RMSE value for k=  40 is: 0.31575277654175166\n"
     ]
    }
   ],
   "source": [
    "#import required packages\n",
    "from sklearn import neighbors\n",
    "from sklearn.metrics import mean_squared_error \n",
    "from math import sqrt\n",
    "import matplotlib.pyplot as plt\n",
    "%matplotlib inline\n",
    "\n",
    "rmse_val = [] #to store rmse values for different k\n",
    "for K in range(40):\n",
    "    K = K+1\n",
    "    model = neighbors.KNeighborsRegressor(n_neighbors = K)\n",
    "\n",
    "    model.fit(x_train, y_train)  #fit the model\n",
    "    pred=model.predict(x_test) #make prediction on test set\n",
    "    error = sqrt(mean_squared_error(y_test,pred)) #calculate rmse\n",
    "    rmse_val.append(error) #store rmse values\n",
    "    print('RMSE value for k= ' , K , 'is:', error)"
   ]
  }
 ],
 "metadata": {
  "interpreter": {
   "hash": "1441d2887804a790b4c96588033b1314f9f1095b4a278723188d857f55228eee"
  },
  "kernelspec": {
   "display_name": "Python 3.7.11 ('base')",
   "language": "python",
   "name": "python3"
  },
  "language_info": {
   "codemirror_mode": {
    "name": "ipython",
    "version": 3
   },
   "file_extension": ".py",
   "mimetype": "text/x-python",
   "name": "python",
   "nbconvert_exporter": "python",
   "pygments_lexer": "ipython3",
   "version": "3.7.11"
  },
  "orig_nbformat": 4
 },
 "nbformat": 4,
 "nbformat_minor": 2
}
