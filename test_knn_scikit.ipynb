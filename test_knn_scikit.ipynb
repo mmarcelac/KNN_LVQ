{
 "cells": [
  {
   "cell_type": "code",
   "execution_count": 2,
   "metadata": {},
   "outputs": [],
   "source": [
    "# same step to LVQ/KNN\n",
    "#scikit-learn, matplotlib\n",
    "#https://blogdozouza.wordpress.com/2019/04/11/introducao-ao-algoritmo-k-nearest-neighbour-codigo-python/\n",
    "\n",
    "import pandas as pd\n",
    "df = pd.read_csv('bank-additional-full.csv', sep= ';')\n",
    "#df.head()\n",
    "df.replace({'yes': 1, 'no': 0}, inplace=True)\n",
    "\n",
    "# input missing values?\n",
    "#df['Item_Weight'].fillna(mean, inplace =True)\n",
    "\n",
    "df = df[['age', 'job','marital','education','default','housing', 'loan', 'y']].dropna()\n",
    "df = pd.get_dummies(df, prefix=['job','marital','education','default','housing', 'loan'])\n",
    "\n",
    "from sklearn.model_selection import train_test_split\n",
    "train, test = train_test_split(df, test_size = 0.3)\n",
    "\n",
    "x_train = train.drop(\"y\", axis=1, inplace=False)\n",
    "y_train = train['y']\n",
    "\n",
    "x_test = test.drop(\"y\", axis=1, inplace=False)\n",
    "y_test = test['y']\n",
    "\n",
    "# normalização\n",
    "from sklearn.preprocessing import MinMaxScaler\n",
    "scaler = MinMaxScaler(feature_range=(0, 1))\n",
    "\n",
    "x_train_scaled = scaler.fit_transform(x_train)\n",
    "x_train = pd.DataFrame(x_train_scaled)\n",
    "\n",
    "x_test_scaled = scaler.fit_transform(x_test)\n",
    "x_test = pd.DataFrame(x_test_scaled)\n"
   ]
  },
  {
   "cell_type": "code",
   "execution_count": 3,
   "metadata": {},
   "outputs": [
    {
     "name": "stdout",
     "output_type": "stream",
     "text": [
      "RMSE value for k=  1 is: 0.4460902601391168\n",
      "RMSE value for k=  2 is: 0.3551947469295374\n",
      "RMSE value for k=  3 is: 0.3793231557474473\n",
      "RMSE value for k=  4 is: 0.34502440295430215\n",
      "RMSE value for k=  5 is: 0.3541680055099439\n",
      "RMSE value for k=  6 is: 0.3424346232945513\n",
      "RMSE value for k=  7 is: 0.34432003120305826\n",
      "RMSE value for k=  8 is: 0.3399441566181709\n",
      "RMSE value for k=  9 is: 0.3430249264793002\n",
      "RMSE value for k=  10 is: 0.3406575764094161\n",
      "RMSE value for k=  11 is: 0.3430249264793002\n",
      "RMSE value for k=  12 is: 0.3399441566181709\n",
      "RMSE value for k=  13 is: 0.3403010534688195\n",
      "RMSE value for k=  14 is: 0.3394677104742675\n",
      "RMSE value for k=  15 is: 0.3399441566181709\n",
      "RMSE value for k=  16 is: 0.33910993657144917\n",
      "RMSE value for k=  17 is: 0.338393253974122\n",
      "RMSE value for k=  18 is: 0.3393484944177467\n",
      "RMSE value for k=  19 is: 0.33910993657144917\n",
      "RMSE value for k=  20 is: 0.33910993657144917\n",
      "RMSE value for k=  21 is: 0.3393484944177467\n",
      "RMSE value for k=  22 is: 0.33958688467856163\n",
      "RMSE value for k=  23 is: 0.3394677104742675\n",
      "RMSE value for k=  24 is: 0.3389905946931901\n",
      "RMSE value for k=  25 is: 0.3394677104742675\n",
      "RMSE value for k=  26 is: 0.33922923646487474\n",
      "RMSE value for k=  27 is: 0.3389905946931901\n",
      "RMSE value for k=  28 is: 0.33887121078573945\n",
      "RMSE value for k=  29 is: 0.33910993657144917\n",
      "RMSE value for k=  30 is: 0.33863231670544064\n",
      "RMSE value for k=  31 is: 0.33863231670544064\n",
      "RMSE value for k=  32 is: 0.3387517848046611\n",
      "RMSE value for k=  33 is: 0.33863231670544064\n",
      "RMSE value for k=  34 is: 0.33922923646487474\n",
      "RMSE value for k=  35 is: 0.33922923646487474\n",
      "RMSE value for k=  36 is: 0.33922923646487474\n",
      "RMSE value for k=  37 is: 0.33958688467856163\n",
      "RMSE value for k=  38 is: 0.3394677104742675\n",
      "RMSE value for k=  39 is: 0.3393484944177467\n",
      "RMSE value for k=  40 is: 0.33922923646487474\n"
     ]
    }
   ],
   "source": [
    "#import required packages\n",
    "from sklearn import neighbors\n",
    "from sklearn.metrics import mean_squared_error \n",
    "from math import sqrt\n",
    "import matplotlib.pyplot as plt\n",
    "%matplotlib inline\n",
    "\n",
    "rmse_val = [] #to store rmse values for different k\n",
    "for K in range(40):\n",
    "    K = K+1\n",
    "    model = neighbors.KNeighborsClassifier(n_neighbors = K)\n",
    "\n",
    "    model.fit(x_train, y_train)  #fit the model\n",
    "    pred=model.predict(x_test) #make prediction on test set\n",
    "    error = sqrt(mean_squared_error(y_test,pred)) #calculate rmse\n",
    "    rmse_val.append(error) #store rmse values\n",
    "    print('RMSE value for k= ' , K , 'is:', error)"
   ]
  }
 ],
 "metadata": {
  "interpreter": {
   "hash": "1441d2887804a790b4c96588033b1314f9f1095b4a278723188d857f55228eee"
  },
  "kernelspec": {
   "display_name": "Python 3.7.11 ('base')",
   "language": "python",
   "name": "python3"
  },
  "language_info": {
   "codemirror_mode": {
    "name": "ipython",
    "version": 3
   },
   "file_extension": ".py",
   "mimetype": "text/x-python",
   "name": "python",
   "nbconvert_exporter": "python",
   "pygments_lexer": "ipython3",
   "version": "3.8.8"
  },
  "orig_nbformat": 4
 },
 "nbformat": 4,
 "nbformat_minor": 2
}
